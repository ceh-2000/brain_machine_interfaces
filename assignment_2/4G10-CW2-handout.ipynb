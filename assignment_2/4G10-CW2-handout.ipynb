{
 "cells": [
  {
   "cell_type": "markdown",
   "metadata": {},
   "source": [
    "# 4G10 Coursework 2: predicting hand kinematics from neural data\n",
    "\n",
    "\n",
    "Please read carefully the last section of this notebook, which gives some of our expectations regarding your report.\n",
    "\n",
    "In this handout, \n",
    "- <u>text that is underlined</u> corresponds to things you have to do / implement.\n",
    "- **text in bold** corresponds to questions you need to answer in some form in your report.\n"
   ]
  },
  {
   "cell_type": "code",
   "metadata": {
    "ExecuteTime": {
     "end_time": "2024-12-18T15:00:34.996076Z",
     "start_time": "2024-12-18T15:00:34.422838Z"
    }
   },
   "source": [
    "from io import BytesIO\n",
    "import numpy as np\n",
    "import matplotlib.pyplot as plt\n",
    "import requests\n",
    "import random\n",
    "from sklearn.metrics import r2_score\n",
    "import pandas as pd\n",
    "np.random.seed(0)\n",
    "random.seed(1)"
   ],
   "outputs": [],
   "execution_count": 1
  },
  {
   "cell_type": "markdown",
   "metadata": {},
   "source": [
    "# 1. Setup\n",
    "\n",
    "In this piece of 4G10 coursework, you will use neural data recorded in the primary motor cortex (M1) of a reaching monkey to predict the kinematics of the monkey's hand.\n",
    "\n",
    "The monkey initiated each trial by placing their hand in the center of a fronto-parallel screen. A target then appeared on the screen. The monkey had to wait for a ‘go’ cue before making a reaching movement towards the instructed target. The targets were placed in various positions in a virtual maze, which changed in each trial, forcing the monkey to make a variety of reaching movements across trials.\n",
    "\n",
    "The activity of $N=162$ motor cortical neurons was recorded simultaneously, alongside the kinematics of the animal's hand.\n",
    "\n",
    "In the dataset presented below, all time series are partitioned into trials. Each trial begins at the go cue and lasts 800ms ($T = 16$ bins of 50ms duration) — roughly the duration of a reach. "
   ]
  },
  {
   "cell_type": "code",
   "metadata": {
    "ExecuteTime": {
     "end_time": "2024-12-18T15:00:35.739289Z",
     "start_time": "2024-12-18T15:00:35.000752Z"
    }
   },
   "source": [
    "# grab the data from the server\n",
    "r = requests.get('http://4G10.cbl-cambridge.org/data.npz', stream = True)\n",
    "data = np.load(BytesIO(r.raw.read()))"
   ],
   "outputs": [],
   "execution_count": 2
  },
  {
   "cell_type": "markdown",
   "metadata": {},
   "source": [
    "Among other things (detailed later), this dictionary numerical arrays indexed by the following keys:\n",
    "- `\"hand_train\" (2 × 400 × T)`: 2D velocity (X/Y) of the monkey's hand in 400 ‘train’ trials;\n",
    "- `\"neural_train\" (N × 400 × T)`: neural activity (spike counts) in the same 400 ‘train’ trials;\n",
    "- `\"neural_test\" (N × 100 × T)`: neural activity (spike counts) in 100 ‘test’ trials.\n",
    "\n",
    "E.g.:"
   ]
  },
  {
   "cell_type": "code",
   "metadata": {
    "ExecuteTime": {
     "end_time": "2024-12-18T15:00:35.787086Z",
     "start_time": "2024-12-18T15:00:35.784028Z"
    }
   },
   "source": [
    "hand_train = data[\"hand_train\"]\n",
    "hand_train.shape"
   ],
   "outputs": [
    {
     "data": {
      "text/plain": [
       "(2, 400, 16)"
      ]
     },
     "execution_count": 3,
     "metadata": {},
     "output_type": "execute_result"
    }
   ],
   "execution_count": 3
  },
  {
   "cell_type": "markdown",
   "metadata": {},
   "source": [
    "The goal of this CW is to implement some of the modelling / decoding techniques you have been taught in lectures, to predict the monkey's 2D hand velocity in the 100 test trials for which you are only given neural activity. Your predictions will be based on the training data provided (`hand_train, neural_train`)."
   ]
  },
  {
   "metadata": {},
   "cell_type": "markdown",
   "source": [
    "# 2. Baseline decoder: simple Gaussian smoothing + linear regression\n",
    "\n",
    "To establish a meaningful baseline, you will first implement a very simple two-stage decoder.\n",
    "In the first stage, you will smooth the spike count time series of each neuron by convolving it with a Gaussian filter of width $\\sigma$; in continuous time, such a Gaussian filter is given by $f(t) \\propto \\exp(-t^2/2\\sigma^2)$."
   ]
  },
  {
   "metadata": {
    "ExecuteTime": {
     "end_time": "2024-12-18T15:00:35.798513Z",
     "start_time": "2024-12-18T15:00:35.795643Z"
    }
   },
   "cell_type": "code",
   "source": [
    "def gaussian_smooth_idx(sigma, data, smoothed_data, shape, idx):\n",
    "    # Basically, for some t away from a cell, we decide how much to weight that in our observation. So if t=0 (on that observation), weight is maximized at 1 (decays as we move away).\n",
    "    time_indices = np.arange(shape[2]) # Shape is neurons x trials x time steps\n",
    "    mask = np.abs(time_indices - idx)\n",
    "    mask = np.expand_dims(mask, axis=(0, 1)) # Cast over neuron and trial dimensions\n",
    "    mask = np.broadcast_to(mask, shape)\n",
    "    mask = np.exp(-(mask**2)/(sigma**2))\n",
    "    \n",
    "    # Normalize the mask to ensure it sums to 1 across time dimension\n",
    "    normalization_factor = np.sum(mask, axis=2, keepdims=True)  # Sum over time steps\n",
    "    mask = mask / normalization_factor  # Normalize the mask\n",
    "    \n",
    "    # Multiply each value of mask by original value and then average\n",
    "    weighted_data = mask * data\n",
    "    smoothed_data[:, :, idx] = np.sum(weighted_data, axis = 2) # Sum across weighted time steps\n",
    "\n",
    "# Test the function\n",
    "test_array = np.array(\n",
    "    [[[3, 7],\n",
    "  [5, 1],\n",
    "  [0, 9]],\n",
    " [[0, 4],\n",
    "  [7, 3],\n",
    "  [2, 7],],\n",
    " [[2, 0],\n",
    "  [0, 4],\n",
    "  [5, 5]]])\n",
    "test_smoothed_array = np.zeros(test_array.shape)\n",
    "gaussian_smooth_idx(10, test_array, test_smoothed_array, test_array.shape, 1)\n",
    "# print(test_array, test_smoothed_array)"
   ],
   "outputs": [],
   "execution_count": 4
  },
  {
   "metadata": {
    "ExecuteTime": {
     "end_time": "2024-12-18T15:00:35.804374Z",
     "start_time": "2024-12-18T15:00:35.802933Z"
    }
   },
   "cell_type": "code",
   "source": [
    "def gaussian_smooth(sigma, data):\n",
    "    shape = data.shape\n",
    "    smoothed_data = np.zeros(shape)\n",
    "    for idx in range(shape[2]): # Iterate over the time bins\n",
    "        gaussian_smooth_idx(sigma, data, smoothed_data, shape, idx)\n",
    "    return smoothed_data"
   ],
   "outputs": [],
   "execution_count": 5
  },
  {
   "metadata": {
    "ExecuteTime": {
     "end_time": "2024-12-18T15:00:35.919523Z",
     "start_time": "2024-12-18T15:00:35.810240Z"
    }
   },
   "cell_type": "code",
   "source": [
    "# Stage 1: Smoothing spike count using gaussian filter of width sigma\n",
    "# Kernels say how we take an average with neighboring points. Here, we are using the Gaussian curve to indicate importance of nearby points\n",
    "\n",
    "# If time bins are width 50 ms, then 0.4 corresponds to 20 ms and 1.6 corresponds to 80 ms\n",
    "sigma = 1.6 # +/- milliseconds (ms)\n",
    "neural_train = data[\"neural_train\"]\n",
    "print(neural_train.shape)\n",
    "\n",
    "# Container to hold results of smoothing train set\n",
    "smoothed_neural_train = gaussian_smooth(sigma, neural_train)\n",
    "\n",
    "# As sigma grows, we move to an unweighted average (more smooth)\n",
    "# As sigma shrinks we care only about time steps very close (less smooth)\n",
    "print(smoothed_neural_train.shape)"
   ],
   "outputs": [
    {
     "name": "stdout",
     "output_type": "stream",
     "text": [
      "(162, 400, 16)\n",
      "(162, 400, 16)\n"
     ]
    }
   ],
   "execution_count": 6
  },
  {
   "metadata": {
    "ExecuteTime": {
     "end_time": "2024-12-18T15:00:36.157106Z",
     "start_time": "2024-12-18T15:00:35.929846Z"
    }
   },
   "cell_type": "code",
   "source": [
    "# Let's plot the smoothing for the report\n",
    "neuron = 2\n",
    "trial = 0\n",
    "time_axis = np.arange(0, 751, 50) # Time bins\n",
    "slice_to_plot = neural_train[neuron, trial, :] # First neuron, first trial, all time bins\n",
    "smooth_slice_to_plot = smoothed_neural_train[neuron, trial, :] # First neuron, first trial, all time bins\n",
    "\n",
    "# Combine data with the new dimension\n",
    "slice_to_plot_2d = np.vstack([time_axis, slice_to_plot])\n",
    "smooth_slice_to_plot_2d = np.vstack([time_axis, smooth_slice_to_plot])\n",
    "\n",
    "# Create a single plot\n",
    "plt.figure(figsize=(12, 6))\n",
    "\n",
    "# Original data histogram\n",
    "plt.bar(time_axis, slice_to_plot, width=50, align='edge', color='blue', alpha=1.0, label=\"Original Data\")\n",
    "\n",
    "# Smoothed data histogram (plotted on top)\n",
    "plt.bar(time_axis, smooth_slice_to_plot, width=50, align='edge', color='green', alpha=1.0, label=\"Smoothed Data\")\n",
    "\n",
    "# Titles and labels\n",
    "plt.title(f\"Original and Smoothed Data Histograms ($\\\\sigma = {sigma}$)\", fontsize=16)\n",
    "plt.xlabel(\"Time (ms)\")\n",
    "plt.ylabel(\"Spike count (frequency)\")\n",
    "\n",
    "# Add legend\n",
    "plt.legend()\n",
    "\n",
    "# Save the plot as a high DPI image\n",
    "plt.savefig(f'plots/original_and_smoothed_data_histograms_sigma={sigma}.pdf', dpi=300)  # Save as PNG with 300 DPI for high resolution\n",
    "\n",
    "# Adjust layout\n",
    "plt.tight_layout()\n",
    "plt.show()"
   ],
   "outputs": [
    {
     "data": {
      "text/plain": [
       "<Figure size 1200x600 with 1 Axes>"
      ],
      "image/png": "[encoded data removed]"
     },
     "metadata": {},
     "output_type": "display_data"
    }
   ],
   "execution_count": 7
  },
  {
   "metadata": {
    "heading_collapsed": true
   },
   "cell_type": "markdown",
   "source": [
    "In the second stage, you will use ridge regression to learn an instantaneous linear decoder given by\n",
    "\n",
    "$$ \\hat{v}_{k,t} = W \\tilde{x}_{k,t} $$\n",
    "\n",
    "where $\\hat{v}_{k, t} \\in \\mathbb{R}^2$ is the predicted velocity of the hand in test trial $k$ and time bin $t$, $\\tilde{x}_{k, t} \\in \\mathbb{R}^N$ is the $t^\\text{th}$ time bin of the temporally smoothed spike counts in test trial $k$, and $W$ is a `2 × N` matrix of decoding weights. Note that the hand velocity data has been centered already, so there is no need to include a bias term in the regression.\n",
    "\n",
    "The optimal ridge regression weights are given by\n",
    "$$  W^\\star = V \\tilde{X}^\\top (\\tilde{X} \\tilde{X}^\\top + \\lambda I_N )^{-1} $$\n",
    "where $V$ is the $2 × (400*16)$ matrix of hand velocities from the training set (with all trials and time bins concatenated horizontally), and similarly $\\tilde{X}$ is the $N × (400*16)$ matrix of smoothed neural spike counts in the training set.\n",
    "\n",
    "In the equation above, $\\lambda$ is a regularisation parameter which helps protect against overfitting.\n",
    "The choice of value for this parameter is left up to you, so long as you can provide a justification (there are several sensible possibilities).\n",
    "\n",
    "The goal here is to make the best possible predictions you can of the held out hand velocity data in test trials, based on the neural activity in the same trials. When you are ready to test your predictions, you can submit them as a 3D numpy array of shape `2 × 100 × 16` to http://4G10.cbl-cambridge.org (note: http, not https). If you get a “HTTP error 400” back, it probably means the format is wrong. Your numpy array must be saved using the `np.save(\"filename.npy\", my_array)` function; the server also expects the array to be of `float64` numerical type — this should be the default in numpy, but if in doubt you can always cast using `my_array.as_type(\"float64\")`. When you submit, please indicate your candidate number and choose \"Simple Gaussian smoothing\" in the dropdown list. Upon uploading, you will receive immediate feedback in the form of an $R^2$ coefficient. The closer to 1, the better!"
   ]
  },
  {
   "metadata": {
    "ExecuteTime": {
     "end_time": "2024-12-18T15:00:36.170302Z",
     "start_time": "2024-12-18T15:00:36.168432Z"
    }
   },
   "cell_type": "code",
   "source": [
    "def compute_W_star(X, V, l):\n",
    "    # Why ridge regression? reduce covariance of parameters by increasing diagonal (lambda * I_N) so ratio of variance to covariance is increased\n",
    "    \n",
    "    I_N = np.eye(X.shape[0])\n",
    "    \n",
    "    V_X_T = np.tensordot(V, X.T, axes=([2, 1], [0, 1]))\n",
    "    \n",
    "    X_X_T = np.tensordot(X, X.T, axes=([2, 1], [0, 1]))\n",
    "    \n",
    "    inv_mat = np.linalg.inv(X_X_T + l * I_N)\n",
    "    \n",
    "    W_star = np.tensordot(V_X_T, inv_mat, axes=([1], [0]))\n",
    "    \n",
    "    return W_star"
   ],
   "outputs": [],
   "execution_count": 8
  },
  {
   "metadata": {
    "ExecuteTime": {
     "end_time": "2024-12-18T15:00:36.176902Z",
     "start_time": "2024-12-18T15:00:36.175628Z"
    }
   },
   "cell_type": "code",
   "source": [
    "X = smoothed_neural_train\n",
    "V = hand_train\n",
    "l = 100"
   ],
   "outputs": [],
   "execution_count": 9
  },
  {
   "metadata": {
    "ExecuteTime": {
     "end_time": "2024-12-18T15:00:36.189342Z",
     "start_time": "2024-12-18T15:00:36.182373Z"
    }
   },
   "cell_type": "code",
   "source": "W_star = compute_W_star(X, V, l)",
   "outputs": [],
   "execution_count": 10
  },
  {
   "metadata": {
    "ExecuteTime": {
     "end_time": "2024-12-18T15:00:36.223565Z",
     "start_time": "2024-12-18T15:00:36.195233Z"
    }
   },
   "cell_type": "code",
   "source": [
    "neural_test = data[\"neural_test\"]\n",
    "test_shape = neural_test.shape\n",
    "\n",
    "# Container to hold results of smoothing on test set\n",
    "smoothed_neural_test = gaussian_smooth(sigma, neural_test)\n",
    "\n",
    "V_test = np.tensordot(W_star, smoothed_neural_test, axes=([1],[0]))\n",
    "print(V_test.shape)\n",
    "\n",
    "np.save(\"outputs/V_test_baseline.npy\", V_test)"
   ],
   "outputs": [
    {
     "name": "stdout",
     "output_type": "stream",
     "text": [
      "(2, 100, 16)\n"
     ]
    }
   ],
   "execution_count": 11
  },
  {
   "metadata": {
    "ExecuteTime": {
     "end_time": "2024-12-18T15:00:36.288874Z",
     "start_time": "2024-12-18T15:00:36.287446Z"
    }
   },
   "cell_type": "code",
   "source": "# Your test R2 is: 0.445",
   "outputs": [],
   "execution_count": 12
  },
  {
   "metadata": {
    "ExecuteTime": {
     "end_time": "2024-12-18T15:00:36.301648Z",
     "start_time": "2024-12-18T15:00:36.300266Z"
    }
   },
   "cell_type": "code",
   "source": [
    "# Reset seeds after messing around with plotting\n",
    "# np.random.seed(0)\n",
    "# random.seed(1)"
   ],
   "outputs": [],
   "execution_count": 13
  },
  {
   "metadata": {
    "ExecuteTime": {
     "end_time": "2024-12-18T15:00:45.005898Z",
     "start_time": "2024-12-18T15:00:36.309101Z"
    }
   },
   "cell_type": "code",
   "source": [
    "# Use k-fold cross validation to choose lambda\n",
    "num_folds = 5\n",
    "fold_size = X.shape[1] / num_folds\n",
    "sigmas = [0.4, 1, 1.6]\n",
    "ls = [0.1, 1, 10, 100, 1000]\n",
    "\n",
    "df = pd.DataFrame(columns=[\"sigma\", \"lambda\", \"value\"])\n",
    "\n",
    "# Clean data copy \n",
    "neural_train = data[\"neural_train\"]\n",
    "\n",
    "for sigma in sigmas:\n",
    "    for l in ls:\n",
    "        fold_r2s = []\n",
    "        for i in range(num_folds):\n",
    "            start_idx = int(fold_size * i)\n",
    "            \n",
    "            # Figure out current validation indices\n",
    "            val_indices = np.arange(start_idx, start_idx + fold_size).astype(int)\n",
    "            \n",
    "            # Training indices are everything else\n",
    "            train_indices = np.setdiff1d(np.arange(X.shape[1]), val_indices).astype(int)\n",
    "            \n",
    "            # Extract test set (everything else)\n",
    "            X_train = neural_train[:, train_indices, :]\n",
    "            X_train_smooth = gaussian_smooth(sigma, X_train)\n",
    "            X_val = neural_train[:, val_indices, :]\n",
    "            X_val_smooth = gaussian_smooth(sigma, X_val)\n",
    "            \n",
    "            V_train = V[:, train_indices, :]\n",
    "            V_val = V[:, val_indices, :]\n",
    "            \n",
    "            W_star = compute_W_star(X_train_smooth, V_train, l)\n",
    "            V_pred = np.tensordot(W_star, X_val_smooth, axes=([1], [0]))\n",
    "            \n",
    "            # Compare validation velocities to predicted velocities using R^2 score\n",
    "            r2 = r2_score(V_val.flatten(), V_pred.flatten())\n",
    "            fold_r2s.append(r2)\n",
    "        \n",
    "        avg_r2 = np.average(np.array(fold_r2s))\n",
    "        df = pd.concat([df, pd.DataFrame([{\"sigma\": sigma, \"lambda\": l, \"value\": round(avg_r2, 3)}])], ignore_index=True)\n",
    "\n",
    "print(np.max(np.array(df['value'])))\n",
    "\n",
    "pivot_df = df.pivot(index=\"sigma\", columns=\"lambda\", values=\"value\")\n",
    "print(pivot_df)"
   ],
   "outputs": [
    {
     "name": "stderr",
     "output_type": "stream",
     "text": [
      "/var/folders/b9/z73nffbd0jj6kn3qz4t9mgj00000gn/T/ipykernel_61928/3318704544.py:41: FutureWarning: The behavior of DataFrame concatenation with empty or all-NA entries is deprecated. In a future version, this will no longer exclude empty or all-NA columns when determining the result dtypes. To retain the old behavior, exclude the relevant entries before the concat operation.\n",
      "  df = pd.concat([df, pd.DataFrame([{\"sigma\": sigma, \"lambda\": l, \"value\": round(avg_r2, 3)}])], ignore_index=True)\n"
     ]
    },
    {
     "name": "stdout",
     "output_type": "stream",
     "text": [
      "0.468\n",
      "lambda  0.1     1.0     10.0    100.0   1000.0\n",
      "sigma                                         \n",
      "0.4      0.343   0.343   0.344   0.346   0.326\n",
      "1.0      0.436   0.437   0.439   0.444   0.398\n",
      "1.6      0.456   0.457   0.461   0.468   0.404\n"
     ]
    }
   ],
   "execution_count": 14
  },
  {
   "metadata": {},
   "cell_type": "markdown",
   "source": [
    "- <u>Implement Gaussian temporal smoothing + ridge regression as outlined above</u>.\n",
    "- **How does the quality of hand velocity predictions vary with the smoothing window length $\\sigma$? How do you interpret that?** You might want to experiment with values between 20 and 80 ms.\n",
    "- **Comment on the suitability of this simple decoding strategy for online (“on the fly”) decoding of movement in a BMI context (consider e.g. feasability, computational tractability, and accuracy). Can you think of a small modification to the above approach that would improve applicability to online decoding?** (bonus points for  implementing it!)\n",
    "- The hand velocity data provided in `data[\"hand_train\"]` had actually been shifted backward by 120ms relative to the neural data (and similarly for the test set, which was not given to you). **Can you speculate about why we did that**?"
   ]
  },
  {
   "metadata": {
    "ExecuteTime": {
     "end_time": "2024-12-18T15:00:45.207906Z",
     "start_time": "2024-12-18T15:00:45.017212Z"
    }
   },
   "cell_type": "code",
   "source": [
    "# On-the-fly decoding\n",
    "def online_W_star(V_X_T, X_X_T, x, v, K, l):\n",
    "    v_x_T = np.tensordot(v, x.T, axes=([2, 1], [0, 1]))\n",
    "    x_x_T = np.tensordot(x, x.T, axes=([2, 1], [0, 1]))\n",
    "    \n",
    "    V_X_T_prime = V_X_T*(K/(K+1)) + v_x_T*(1/(K+1))\n",
    "    X_X_T_prime = X_X_T*(K/(K+1)) + x_x_T*(1/(K+1))\n",
    "    \n",
    "    # Same as before\n",
    "    I_N = np.eye(X.shape[0])\n",
    "    inv_mat = np.linalg.inv(X_X_T_prime + l * I_N)\n",
    "    \n",
    "    W_star = np.tensordot(V_X_T_prime, inv_mat, axes=([1], [0]))\n",
    "    \n",
    "    return W_star, V_X_T_prime, X_X_T_prime, K+1\n",
    "\n",
    "K = 380\n",
    "l = 100\n",
    "sigma = 1.6\n",
    "neural_train = data[\"neural_train\"][:, :K, :]\n",
    "hand_train = data[\"hand_train\"][:, :K, :]\n",
    "\n",
    "X = gaussian_smooth(sigma, neural_train)\n",
    "V = hand_train\n",
    "\n",
    "V_X_T = np.tensordot(V, X.T, axes=([2, 1], [0, 1]))\n",
    "X_X_T = np.tensordot(X, X.T, axes=([2, 1], [0, 1]))\n",
    "\n",
    "W_star = compute_W_star(X, V, l)\n",
    "\n",
    "# Comment out to remove online decoding\n",
    "while K < 400:\n",
    "    online_neural_train = data[\"neural_train\"][:, K:K+1, :]\n",
    "    online_hand_train = data[\"hand_train\"][:, K:K+1, :]\n",
    "\n",
    "    W_star, V_X_T, X_X_T, K = online_W_star(V_X_T, X_X_T, online_neural_train, online_hand_train, K, l)\n",
    "\n",
    "neural_test = data[\"neural_test\"]\n",
    "neural_test_smooth = gaussian_smooth(sigma, neural_test)\n",
    "\n",
    "V_test = np.tensordot(W_star, neural_test_smooth, axes=([1],[0]))\n",
    "np.save(\"outputs/V_test_online.npy\", V_test)"
   ],
   "outputs": [],
   "execution_count": 15
  },
  {
   "cell_type": "markdown",
   "metadata": {},
   "source": [
    "# 3. Kalman filter-based decoding\n",
    "\n",
    "We now turn to a more sophisticated decoder based on a Kalman filter/smoother.\n",
    "\n",
    "### 3.1 An autoregressive prior for hand kinematics\n",
    "\n",
    "A 10-dimensional linear latent dynamical system (“LDS”; cf lecture notes) was pre-trained for you on the hand velocity data in the training set; specifically, we consider the following generative model:\n",
    "\n",
    "$$\n",
    "(1) \\qquad z_{k, 0} \\sim \\mathcal{N}(\\mu_0, \\Sigma_0) \\\\ \n",
    "(2) \\qquad z_{k, t+1} = A z_{k, t} + \\epsilon_{k, t+1} \\quad \\text{with } \\epsilon_{k, t+1} \\sim \\mathcal{N}(0, Q) \\\\\n",
    "(3) \\qquad v_{k, t} = C z_{k, t} + \\eta_{k, t} \\quad \\text{with } \\eta_{k, t} \\sim \\mathcal{N}(0, R)\n",
    "$$\n",
    "\n",
    "where $z_{k, t} \\in \\mathbb{R}^{10}$ is the latent state in time bin $t$ of trial $k$, and $v_{k, t} \\in \\mathbb{R}^2$ is the corresponding hand velocity. \n",
    "\n",
    "The parameters of this LDS can be found in the same `data` dictionary as above, with the following keys:\n",
    "- \"hand_KF_A\" (`10 × 10`): state matrix $A$\n",
    "- \"hand_KF_C\" (`2 × 10`): output matrix $C$\n",
    "- \"hand_KF_mu0\" (`10 × 1`): initial prior mean $\\mu_0$\n",
    "- \"hand_KF_Sigma0\" (`10 × 10`): initial prior covariance $\\Sigma_0$\n",
    "- \"hand_KF_Q\" (`10 × 10`): process noise covariance matrix $Q$\n",
    "- \"hand_KF_R\" (`2 × 2`): observation noise covariance matrix $R$\n",
    "\n",
    "<u>Write your own Kalman smoother implementation and use it to compute the mean $\\hat{z}_{k, 1:T}$ of the smoothing distribution $p(z_{k, t} | v_{k, 1:T})$, for each trial $k$ in the training set.</u>\n"
   ]
  },
  {
   "metadata": {
    "ExecuteTime": {
     "end_time": "2024-12-18T15:00:45.222431Z",
     "start_time": "2024-12-18T15:00:45.220389Z"
    }
   },
   "cell_type": "code",
   "source": [
    "# Pull in the data \n",
    "A = data[\"hand_KF_A\"]\n",
    "C = data[\"hand_KF_C\"]\n",
    "mu0 = data[\"hand_KF_mu0\"]\n",
    "Sigma0 = data[\"hand_KF_Sigma0\"]\n",
    "Q = data[\"hand_KF_Q\"]\n",
    "R = data[\"hand_KF_R\"]"
   ],
   "outputs": [],
   "execution_count": 16
  },
  {
   "metadata": {
    "ExecuteTime": {
     "end_time": "2024-12-18T15:00:45.240225Z",
     "start_time": "2024-12-18T15:00:45.234800Z"
    }
   },
   "cell_type": "code",
   "source": [
    "# Smooth the data with a Kalman smoother\n",
    "neural_train = data[\"neural_train\"] # Fresh copy of data\n",
    "hand_train = data[\"hand_train\"] \n",
    "neural_test = data[\"neural_test\"] \n",
    "N, K, T = neural_train.shape # Shape is neurons (n) x trials (k) x times (t)\n",
    "LDS_dim = 10"
   ],
   "outputs": [],
   "execution_count": 17
  },
  {
   "metadata": {
    "ExecuteTime": {
     "end_time": "2024-12-18T15:00:45.256938Z",
     "start_time": "2024-12-18T15:00:45.253110Z"
    }
   },
   "cell_type": "code",
   "source": [
    "# First, perform Kalman filtering\n",
    "\n",
    "# Create arrays to hold intermediate values for both mu and Sigma\n",
    "mu_array = np.zeros(shape=(K, T, LDS_dim))\n",
    "mu0_repeat = np.repeat(mu0, K, axis=1).T\n",
    "mu_array[:, 0, :] = mu0_repeat\n",
    "\n",
    "Sigma_array = np.zeros(shape=(T, LDS_dim, LDS_dim)) # Condition independent\n",
    "Sigma_array[0] = Sigma0[np.newaxis, :, :]\n",
    "\n",
    "for t in range(1, T):\n",
    "    # First, find Sigma t using Sigma t-1    \n",
    "    C_T_R_1_C = np.matmul(np.matmul(C.T, np.linalg.inv(R)), C)\n",
    "    A_Sigma_A_T = np.matmul(np.matmul(A, Sigma_array[(t-1)]), A.T)\n",
    "    Q_Q_T = np.matmul(Q, Q.T)\n",
    "    Sigma_inv = C_T_R_1_C + np.linalg.inv(A_Sigma_A_T + Q_Q_T)\n",
    "    \n",
    "    # Update the next Sigma at time t\n",
    "    Sigma_array[t] = np.linalg.inv(Sigma_inv)\n",
    "    \n",
    "    # Now, use Sigma t to find mu t\n",
    "    v_t = hand_train[:, :, t] # Use the current velocity at time t to update the hidden state at time t\n",
    "    C_A = np.matmul(C, A)\n",
    "    C_A_mu = np.matmul(C_A, mu_array[:, (t-1), :].T)    \n",
    "    pred_error = v_t - C_A_mu\n",
    "    assert pred_error.shape == (2,400), 'Shape of prediction error array should be 2 (x & y velocities) by K.'\n",
    "    \n",
    "    kalman_gain = np.matmul(np.matmul(Sigma_array[t], C.T), np.linalg.inv(R))\n",
    "    correction = np.matmul(kalman_gain, pred_error).T # Just because we want conditions by 10\n",
    "    assert correction.shape == (400, 10), 'Shape of correction should be K by 10 (model trained with 10 params for mu)'\n",
    "    \n",
    "    # Update the next mu at time t\n",
    "    A_mu_t = np.matmul(A, mu_array[:, (t-1), :].T).T # Shape is conditions (K) by time (T)\n",
    "    assert A_mu_t.shape == (400, 10), 'Shape of A x mu_t should be K by 10 (model trained with 10 params for mu)'\n",
    "\n",
    "    mu_array[:, t] = A_mu_t + correction\n",
    "\n",
    "print(f'mu array shape: {mu_array.shape}, Sigma array shape: {Sigma_array.shape}')"
   ],
   "outputs": [
    {
     "name": "stdout",
     "output_type": "stream",
     "text": [
      "mu array shape: (400, 16, 10), Sigma array shape: (16, 10, 10)\n"
     ]
    }
   ],
   "execution_count": 18
  },
  {
   "metadata": {
    "ExecuteTime": {
     "end_time": "2024-12-18T15:00:45.326034Z",
     "start_time": "2024-12-18T15:00:45.319495Z"
    }
   },
   "cell_type": "code",
   "source": [
    "# Second, do a backward pass to perform Kalman smoothing \n",
    "\n",
    "# Create arrays to hold intermediate values again\n",
    "mu_array_tilde = np.zeros(shape = mu_array.shape)\n",
    "Sigma_array_tilde = np.zeros(shape = Sigma_array.shape)\n",
    "\n",
    "# Populate the last element in both arrays with the last element in mu array and Sigma array\n",
    "mu_array_tilde[:, T-1] = mu_array[:, T-1]\n",
    "Sigma_array_tilde[T-1] = Sigma_array[T-1]\n",
    "print(Sigma_array_tilde)\n",
    "\n",
    "for t in range(T-2, -1, -1): # \n",
    "    A_Sigma_A_T = np.matmul(np.matmul(A, Sigma_array[t]), A.T)\n",
    "    Q_Q_T = np.matmul(Q, Q.T)\n",
    "    P_t = A_Sigma_A_T + Q_Q_T\n",
    "    P_t_inv = np.linalg.inv(P_t)\n",
    "    G_t = np.matmul(np.matmul(Sigma_array[t], A.T), P_t_inv)\n",
    "    \n",
    "    A_mu_t = np.matmul(A, mu_array[:, t].T).T # Use current time\n",
    "    # print(f'A x mu t shape: {A_mu_t.shape}')\n",
    "    # print(f'mu tilde t+1 shape: {mu_array_tilde[:, t+1].shape}')\n",
    "    mu_array_tilde[:, t] = mu_array[:, t] + np.matmul(G_t, (mu_array_tilde[:, t+1] - A_mu_t).T).T\n",
    "    \n",
    "    diff = Sigma_array_tilde[t+1] - P_t\n",
    "    G_t_diff_G_t_T = np.matmul(G_t, np.matmul(diff, G_t.T))\n",
    "    Sigma_array_tilde[t] = Sigma_array[t] + G_t_diff_G_t_T\n",
    "\n",
    "print(Sigma_array_tilde)\n",
    "\n",
    "# Second, do a backward pass to perform Kalman smoothing \n",
    "\n",
    "# Create arrays to hold intermediate values again\n",
    "mu_array_tilde = np.zeros(shape=mu_array.shape)\n",
    "Sigma_array_tilde = np.zeros(shape=Sigma_array.shape)\n",
    "\n",
    "# Populate the last element in both arrays with the last element in mu array and Sigma array\n",
    "mu_array_tilde[:, T - 1] = mu_array[:, T - 1]\n",
    "Sigma_array_tilde[T - 1] = Sigma_array[T - 1]\n",
    "print(Sigma_array_tilde)\n",
    "\n",
    "for t in range(T - 2, -1, -1):  # \n",
    "    A_Sigma_A_T = np.matmul(np.matmul(A, Sigma_array[t]), A.T)\n",
    "    Q_Q_T = np.matmul(Q, Q.T)\n",
    "    P_t = A_Sigma_A_T + Q_Q_T\n",
    "    P_t_inv = np.linalg.inv(P_t)\n",
    "    G_t = np.matmul(np.matmul(Sigma_array[t], A.T), P_t_inv)\n",
    "\n",
    "    A_mu_t = np.matmul(A, mu_array[:, t].T).T  # Use current time\n",
    "    # print(f'A x mu t shape: {A_mu_t.shape}')\n",
    "    # print(f'mu tilde t+1 shape: {mu_array_tilde[:, t+1].shape}')\n",
    "    mu_array_tilde[:, t] = mu_array[:, t] + np.matmul(G_t, (mu_array_tilde[:, t + 1] - A_mu_t).T).T\n",
    "\n",
    "    diff = Sigma_array_tilde[t + 1] - P_t\n",
    "    G_t_diff_G_t_T = np.matmul(G_t, np.matmul(diff, G_t.T))\n",
    "    Sigma_array_tilde[t] = Sigma_array[t] + G_t_diff_G_t_T"
   ],
   "outputs": [
    {
     "name": "stdout",
     "output_type": "stream",
     "text": [
      "[[[ 0.          0.          0.         ...  0.          0.\n",
      "    0.        ]\n",
      "  [ 0.          0.          0.         ...  0.          0.\n",
      "    0.        ]\n",
      "  [ 0.          0.          0.         ...  0.          0.\n",
      "    0.        ]\n",
      "  ...\n",
      "  [ 0.          0.          0.         ...  0.          0.\n",
      "    0.        ]\n",
      "  [ 0.          0.          0.         ...  0.          0.\n",
      "    0.        ]\n",
      "  [ 0.          0.          0.         ...  0.          0.\n",
      "    0.        ]]\n",
      "\n",
      " [[ 0.          0.          0.         ...  0.          0.\n",
      "    0.        ]\n",
      "  [ 0.          0.          0.         ...  0.          0.\n",
      "    0.        ]\n",
      "  [ 0.          0.          0.         ...  0.          0.\n",
      "    0.        ]\n",
      "  ...\n",
      "  [ 0.          0.          0.         ...  0.          0.\n",
      "    0.        ]\n",
      "  [ 0.          0.          0.         ...  0.          0.\n",
      "    0.        ]\n",
      "  [ 0.          0.          0.         ...  0.          0.\n",
      "    0.        ]]\n",
      "\n",
      " [[ 0.          0.          0.         ...  0.          0.\n",
      "    0.        ]\n",
      "  [ 0.          0.          0.         ...  0.          0.\n",
      "    0.        ]\n",
      "  [ 0.          0.          0.         ...  0.          0.\n",
      "    0.        ]\n",
      "  ...\n",
      "  [ 0.          0.          0.         ...  0.          0.\n",
      "    0.        ]\n",
      "  [ 0.          0.          0.         ...  0.          0.\n",
      "    0.        ]\n",
      "  [ 0.          0.          0.         ...  0.          0.\n",
      "    0.        ]]\n",
      "\n",
      " ...\n",
      "\n",
      " [[ 0.          0.          0.         ...  0.          0.\n",
      "    0.        ]\n",
      "  [ 0.          0.          0.         ...  0.          0.\n",
      "    0.        ]\n",
      "  [ 0.          0.          0.         ...  0.          0.\n",
      "    0.        ]\n",
      "  ...\n",
      "  [ 0.          0.          0.         ...  0.          0.\n",
      "    0.        ]\n",
      "  [ 0.          0.          0.         ...  0.          0.\n",
      "    0.        ]\n",
      "  [ 0.          0.          0.         ...  0.          0.\n",
      "    0.        ]]\n",
      "\n",
      " [[ 0.          0.          0.         ...  0.          0.\n",
      "    0.        ]\n",
      "  [ 0.          0.          0.         ...  0.          0.\n",
      "    0.        ]\n",
      "  [ 0.          0.          0.         ...  0.          0.\n",
      "    0.        ]\n",
      "  ...\n",
      "  [ 0.          0.          0.         ...  0.          0.\n",
      "    0.        ]\n",
      "  [ 0.          0.          0.         ...  0.          0.\n",
      "    0.        ]\n",
      "  [ 0.          0.          0.         ...  0.          0.\n",
      "    0.        ]]\n",
      "\n",
      " [[ 2.5206984  -1.79341835 -0.40980985 ... -1.01215356 -1.65302506\n",
      "    0.30451372]\n",
      "  [-1.79341835  4.4222816  -0.77600581 ...  1.61527241  0.27339822\n",
      "   -1.13598427]\n",
      "  [-0.40980985 -0.77600581  0.97365533 ...  0.80015531  0.38267228\n",
      "    0.61159174]\n",
      "  ...\n",
      "  [-1.01215356  1.61527241  0.80015531 ...  4.27184294  0.46690649\n",
      "   -0.1476497 ]\n",
      "  [-1.65302506  0.27339822  0.38267228 ...  0.46690649  1.82390682\n",
      "    0.33731559]\n",
      "  [ 0.30451372 -1.13598427  0.61159174 ... -0.1476497   0.33731559\n",
      "    1.82213213]]]\n",
      "[[[ 3.51785205e-02 -1.91963718e-02  8.77882488e-03 ...  1.49324286e-03\n",
      "   -4.54198434e-03 -3.91441696e-02]\n",
      "  [-1.91963718e-02  1.64889315e-02  1.58026257e-02 ... -2.14788620e-03\n",
      "    7.24811736e-03  2.07365730e-02]\n",
      "  [ 8.77882488e-03  1.58026257e-02  1.60841531e-01 ... -2.18761722e-02\n",
      "    2.73832506e-02  1.09992830e-02]\n",
      "  ...\n",
      "  [ 1.49324286e-03 -2.14788620e-03 -2.18761722e-02 ...  5.67053959e-03\n",
      "   -2.70523924e-03 -7.42192750e-03]\n",
      "  [-4.54198434e-03  7.24811736e-03  2.73832506e-02 ... -2.70523924e-03\n",
      "    8.67548012e-03  1.56120903e-03]\n",
      "  [-3.91441696e-02  2.07365730e-02  1.09992830e-02 ... -7.42192750e-03\n",
      "    1.56120903e-03  7.25029582e-02]]\n",
      "\n",
      " [[ 8.03294906e-03 -8.34644739e-03 -6.34698778e-03 ... -1.66039571e-03\n",
      "   -3.41449954e-03 -2.03754962e-02]\n",
      "  [-8.34644739e-03  2.16525211e-02  1.94501051e-02 ...  9.55732690e-03\n",
      "   -1.92843723e-03  2.50763298e-02]\n",
      "  [-6.34698778e-03  1.94501051e-02  5.37302386e-02 ...  1.10354278e-02\n",
      "   -1.04397769e-04  1.13889593e-02]\n",
      "  ...\n",
      "  [-1.66039571e-03  9.55732690e-03  1.10354278e-02 ...  1.07966145e-02\n",
      "   -7.79621801e-03 -3.24980326e-03]\n",
      "  [-3.41449954e-03 -1.92843723e-03 -1.04397769e-04 ... -7.79621801e-03\n",
      "    1.24812682e-02  1.50264955e-02]\n",
      "  [-2.03754962e-02  2.50763298e-02  1.13889593e-02 ... -3.24980326e-03\n",
      "    1.50264955e-02  1.28287079e-01]]\n",
      "\n",
      " [[ 1.89414564e-02 -1.55624306e-02 -4.17754821e-03 ... -2.16326078e-02\n",
      "    2.32169276e-03 -6.17253051e-03]\n",
      "  [-1.55624306e-02  5.84011384e-02  1.12784844e-02 ...  2.98557616e-02\n",
      "   -2.06917805e-02  2.67058875e-03]\n",
      "  [-4.17754821e-03  1.12784844e-02  3.19469937e-02 ...  1.41415013e-02\n",
      "   -5.82844778e-03  6.30102915e-03]\n",
      "  ...\n",
      "  [-2.16326078e-02  2.98557616e-02  1.41415013e-02 ...  4.58561842e-02\n",
      "   -1.70047505e-02 -2.65286419e-02]\n",
      "  [ 2.32169276e-03 -2.06917805e-02 -5.82844778e-03 ... -1.70047505e-02\n",
      "    1.64340033e-02  1.81688542e-02]\n",
      "  [-6.17253051e-03  2.67058875e-03  6.30102915e-03 ... -2.65286419e-02\n",
      "    1.81688542e-02  1.33662467e-01]]\n",
      "\n",
      " ...\n",
      "\n",
      " [[ 1.84850527e+00 -9.46316859e-01 -5.15581956e-01 ... -6.66772883e-01\n",
      "   -1.29123208e+00 -1.80138226e-02]\n",
      "  [-9.46316859e-01  2.09372396e+00 -9.79175785e-02 ...  3.88974749e-01\n",
      "   -1.19970243e-01 -3.22375746e-01]\n",
      "  [-5.15581956e-01 -9.79175785e-02  6.38083284e-01 ...  1.03801130e+00\n",
      "    3.88325949e-01  2.49236341e-01]\n",
      "  ...\n",
      "  [-6.66772883e-01  3.88974749e-01  1.03801130e+00 ...  3.14046801e+00\n",
      "    1.39066543e-01 -5.98133668e-02]\n",
      "  [-1.29123208e+00 -1.19970243e-01  3.88325949e-01 ...  1.39066543e-01\n",
      "    1.48696165e+00  3.75244961e-01]\n",
      "  [-1.80138226e-02 -3.22375746e-01  2.49236341e-01 ... -5.98133668e-02\n",
      "    3.75244961e-01  1.27100453e+00]]\n",
      "\n",
      " [[ 2.38575402e+00 -1.77478160e+00 -4.26673492e-01 ... -1.14180377e+00\n",
      "   -1.60135042e+00  1.73349991e-01]\n",
      "  [-1.77478160e+00  3.44335219e+00 -2.05528881e-01 ...  1.28317829e+00\n",
      "    3.46331188e-01 -5.74688679e-01]\n",
      "  [-4.26673492e-01 -2.05528881e-01  6.57567212e-01 ...  1.00524973e+00\n",
      "    3.28521520e-01  2.94645905e-01]\n",
      "  ...\n",
      "  [-1.14180377e+00  1.28317829e+00  1.00524973e+00 ...  3.92124986e+00\n",
      "    4.11029324e-01 -1.30929266e-01]\n",
      "  [-1.60135042e+00  3.46331188e-01  3.28521520e-01 ...  4.11029324e-01\n",
      "    1.68848327e+00  2.61869567e-01]\n",
      "  [ 1.73349991e-01 -5.74688679e-01  2.94645905e-01 ... -1.30929266e-01\n",
      "    2.61869567e-01  1.36815212e+00]]\n",
      "\n",
      " [[ 2.52069840e+00 -1.79341835e+00 -4.09809845e-01 ... -1.01215356e+00\n",
      "   -1.65302506e+00  3.04513721e-01]\n",
      "  [-1.79341835e+00  4.42228160e+00 -7.76005810e-01 ...  1.61527241e+00\n",
      "    2.73398217e-01 -1.13598427e+00]\n",
      "  [-4.09809845e-01 -7.76005810e-01  9.73655329e-01 ...  8.00155307e-01\n",
      "    3.82672280e-01  6.11591743e-01]\n",
      "  ...\n",
      "  [-1.01215356e+00  1.61527241e+00  8.00155307e-01 ...  4.27184294e+00\n",
      "    4.66906488e-01 -1.47649699e-01]\n",
      "  [-1.65302506e+00  2.73398217e-01  3.82672280e-01 ...  4.66906488e-01\n",
      "    1.82390682e+00  3.37315589e-01]\n",
      "  [ 3.04513721e-01 -1.13598427e+00  6.11591743e-01 ... -1.47649699e-01\n",
      "    3.37315589e-01  1.82213213e+00]]]\n",
      "[[[ 0.          0.          0.         ...  0.          0.\n",
      "    0.        ]\n",
      "  [ 0.          0.          0.         ...  0.          0.\n",
      "    0.        ]\n",
      "  [ 0.          0.          0.         ...  0.          0.\n",
      "    0.        ]\n",
      "  ...\n",
      "  [ 0.          0.          0.         ...  0.          0.\n",
      "    0.        ]\n",
      "  [ 0.          0.          0.         ...  0.          0.\n",
      "    0.        ]\n",
      "  [ 0.          0.          0.         ...  0.          0.\n",
      "    0.        ]]\n",
      "\n",
      " [[ 0.          0.          0.         ...  0.          0.\n",
      "    0.        ]\n",
      "  [ 0.          0.          0.         ...  0.          0.\n",
      "    0.        ]\n",
      "  [ 0.          0.          0.         ...  0.          0.\n",
      "    0.        ]\n",
      "  ...\n",
      "  [ 0.          0.          0.         ...  0.          0.\n",
      "    0.        ]\n",
      "  [ 0.          0.          0.         ...  0.          0.\n",
      "    0.        ]\n",
      "  [ 0.          0.          0.         ...  0.          0.\n",
      "    0.        ]]\n",
      "\n",
      " [[ 0.          0.          0.         ...  0.          0.\n",
      "    0.        ]\n",
      "  [ 0.          0.          0.         ...  0.          0.\n",
      "    0.        ]\n",
      "  [ 0.          0.          0.         ...  0.          0.\n",
      "    0.        ]\n",
      "  ...\n",
      "  [ 0.          0.          0.         ...  0.          0.\n",
      "    0.        ]\n",
      "  [ 0.          0.          0.         ...  0.          0.\n",
      "    0.        ]\n",
      "  [ 0.          0.          0.         ...  0.          0.\n",
      "    0.        ]]\n",
      "\n",
      " ...\n",
      "\n",
      " [[ 0.          0.          0.         ...  0.          0.\n",
      "    0.        ]\n",
      "  [ 0.          0.          0.         ...  0.          0.\n",
      "    0.        ]\n",
      "  [ 0.          0.          0.         ...  0.          0.\n",
      "    0.        ]\n",
      "  ...\n",
      "  [ 0.          0.          0.         ...  0.          0.\n",
      "    0.        ]\n",
      "  [ 0.          0.          0.         ...  0.          0.\n",
      "    0.        ]\n",
      "  [ 0.          0.          0.         ...  0.          0.\n",
      "    0.        ]]\n",
      "\n",
      " [[ 0.          0.          0.         ...  0.          0.\n",
      "    0.        ]\n",
      "  [ 0.          0.          0.         ...  0.          0.\n",
      "    0.        ]\n",
      "  [ 0.          0.          0.         ...  0.          0.\n",
      "    0.        ]\n",
      "  ...\n",
      "  [ 0.          0.          0.         ...  0.          0.\n",
      "    0.        ]\n",
      "  [ 0.          0.          0.         ...  0.          0.\n",
      "    0.        ]\n",
      "  [ 0.          0.          0.         ...  0.          0.\n",
      "    0.        ]]\n",
      "\n",
      " [[ 2.5206984  -1.79341835 -0.40980985 ... -1.01215356 -1.65302506\n",
      "    0.30451372]\n",
      "  [-1.79341835  4.4222816  -0.77600581 ...  1.61527241  0.27339822\n",
      "   -1.13598427]\n",
      "  [-0.40980985 -0.77600581  0.97365533 ...  0.80015531  0.38267228\n",
      "    0.61159174]\n",
      "  ...\n",
      "  [-1.01215356  1.61527241  0.80015531 ...  4.27184294  0.46690649\n",
      "   -0.1476497 ]\n",
      "  [-1.65302506  0.27339822  0.38267228 ...  0.46690649  1.82390682\n",
      "    0.33731559]\n",
      "  [ 0.30451372 -1.13598427  0.61159174 ... -0.1476497   0.33731559\n",
      "    1.82213213]]]\n"
     ]
    }
   ],
   "execution_count": 19
  },
  {
   "cell_type": "markdown",
   "metadata": {},
   "source": [
    "### 3.2 Building an LDS model of neural data using supervised learning\n",
    "\n",
    "Conceptually, the latents $z_{k, 1:T}$ introduced above contain signals related to the velocity of the hand, its acceleration, and potentially higher-order derivatives too — all signals which we have good reasons to suspect that neural activity in M1 is strongly related to. Eqs (1) and (2) above provide a good autoregressive prior model for the temporal dynamics of these signals, and you are now going to use this prior in a generative LDS model of _neural data_, substituting the hand-related likelihood (Eq 3) with a neural likelihood:\n",
    "\n",
    "$$\n",
    "(4) \\qquad x_{k, t} = D z_{k, t} + \\xi_{k, t} \\quad \\text{with } \\xi_{k, t} \\sim \\mathcal{N}(0, S)\n",
    "$$\n",
    "\n",
    "where $x_{k, t}$ denotes neural spike counts in the $t^\\text{th}$ time bin of trial $k$.\n",
    "\n",
    "The combination of Eqs (1), (2) and (4) forms an LDS model which you will be able to invert using Kalman filtering to obtain a filtered posterior $p(z_{k', t} | x_{k', 0:t})$ for any test trial $k'$. From there, you will use Eq. (3) to obtain a filtered predictive distribution for the hand velocity in each test trial, $p(v_{k', t} | x_{k', 0:t})$.\n",
    "\n",
    "- <u>Begin by centering the neural data (both training and testing sets) by removing, for each neuron, its mean activity across both trials and time in the training set.</u>\n",
    "- <u>Fit the likelihood parameters $D$ and $S$ through supervised learning, by maximizing the joint log-likelihood $\\log p(\\hat{z}_{k, 1:T}, x_{k, 1:T})$ averaged over all trials in the training set, where $\\hat{z}_{k,1:T}$ is the posterior mean you obtained in Section 3.1.</u>\n",
    "To do this, write down the average joint log likelihood and **show that it is maximized by the following parameter settings**:\n",
    "    - $ \\displaystyle D^\\star = \\left(\\sum_{k, t} x_{k, t} \\hat{z}_{k, t}^\\top \\right) \\left( \\sum_{k, t} \\hat{z}_{k, t} \\hat{z}_{k, t}^\\top \\right)^{-1} $\n",
    "    - $ \\displaystyle S^\\star = \\frac{1}{KT} \\left( \\sum_{k, t} x_{k, t} x_{k, t}^\\top - D^\\star \\sum_{k, t} \\hat{z}_{k, t} x_{k, t}^\\top \\right) $ where $K$ is the number of trials in the training set. **Include your derivations in your report.**"
   ]
  },
  {
   "metadata": {
    "ExecuteTime": {
     "end_time": "2024-12-18T15:00:45.354414Z",
     "start_time": "2024-12-18T15:00:45.348551Z"
    }
   },
   "cell_type": "code",
   "source": [
    "# First, center the data by subtracted out the mean wrt condition and time\n",
    "X_uncentered = data['neural_train'] \n",
    "X_avg_cond_time = np.average(X_uncentered, axis = [1, 2])\n",
    "X_avg_cond_time = X_avg_cond_time[:, np.newaxis, np.newaxis]\n",
    "X = X_uncentered - X_avg_cond_time\n",
    "\n",
    "Z_post = mu_array_tilde # Posterior of the values\n",
    "print(X.shape, Z_post.shape)"
   ],
   "outputs": [
    {
     "name": "stdout",
     "output_type": "stream",
     "text": [
      "(162, 400, 16) (400, 16, 10)\n"
     ]
    }
   ],
   "execution_count": 20
  },
  {
   "metadata": {
    "ExecuteTime": {
     "end_time": "2024-12-18T15:00:45.603526Z",
     "start_time": "2024-12-18T15:00:45.377284Z"
    }
   },
   "cell_type": "code",
   "source": [
    "# Now, find D* and S* using the parameter settings defined above\n",
    "sum_1 = np.zeros(shape = (N, LDS_dim))\n",
    "sum_2 = np.zeros(shape = (LDS_dim, LDS_dim))\n",
    "sum_3 = np.zeros(shape = (N, N))\n",
    "sum_4 = np.zeros(shape = (LDS_dim, N))\n",
    "\n",
    "for k in range(K):\n",
    "    for t in range(T):\n",
    "        x_k_t = (X[:, k, t])[:, np.newaxis] # Dimension should be N x 1\n",
    "        z_k_t = (Z_post[k, t])[:, np.newaxis] # Dimension should be 10 x 1\n",
    "        \n",
    "        sum_1 += np.matmul(x_k_t, z_k_t.T)\n",
    "        sum_2 += np.matmul(z_k_t, z_k_t.T)\n",
    "        sum_3 += np.matmul(x_k_t, x_k_t.T)\n",
    "        sum_4 += np.matmul(z_k_t, x_k_t.T)\n",
    "        \n",
    "D_star = np.matmul(sum_1, np.linalg.inv(sum_2))\n",
    "S_star = (1/(K*T)) * (sum_3 - np.matmul(D_star, sum_4))\n",
    "print(D_star.shape, S_star.shape)"
   ],
   "outputs": [
    {
     "name": "stdout",
     "output_type": "stream",
     "text": [
      "(162, 10) (162, 162)\n"
     ]
    }
   ],
   "execution_count": 21
  },
  {
   "cell_type": "markdown",
   "metadata": {},
   "source": [
    "### 3.3 Using Kalman filtering to predict the hand velocity\n",
    "\n",
    "- Based on the model obtained in Section 3.2, <u>write your own Kalman filter implementation and compute the filtered posterior $p(z_{k', t} | x_{k', 0:t}) $ for each trial $k'$ in the test set.</u> What we are really interested in is the mean $\\bar{z}_{k', t}$ of this filtered posterior, as our best prediction of the momentary hand velocity $v_{k', t}$ is then given by $\\hat{v}_{k', t} = C \\bar{z}_{k', t}$.\n",
    "- <u>Submit your predictions to http://4G10.cbl-cambridge.org (note: http, not https) in the same format as described in Section 2. Please select \"Kalman filtering\" in the dropdown list. Once again, you will receive immediate feedback in the form of an $R^2$ coefficient.</u> **Include this result in your report, and discuss; in particular, why do you think these predictions are much better than those of Section 2?**\n",
    "- As in Section 2, **comment on the suitability of this more sophisticated decoding strategy for online decoding of movement in a BCI context**.\n",
    "- Finally, **what approach(es) would you suggest to improve decoding performance even further? Include a discussion of the tradeoffs that would arise with these alternative approaches.** (max 1 page in your report)"
   ]
  },
  {
   "metadata": {
    "ExecuteTime": {
     "end_time": "2024-12-18T15:00:45.630031Z",
     "start_time": "2024-12-18T15:00:45.627626Z"
    }
   },
   "cell_type": "code",
   "source": [
    "# Hyperparameters\n",
    "neural_test = data[\"neural_test\"] # Fresh copy of data\n",
    "N, K, T = neural_test.shape # Shape is neurons (n) x trials (k) x times (t)\n",
    "LDS_dim = 10"
   ],
   "outputs": [],
   "execution_count": 22
  },
  {
   "metadata": {
    "ExecuteTime": {
     "end_time": "2024-12-18T15:00:45.663622Z",
     "start_time": "2024-12-18T15:00:45.653178Z"
    }
   },
   "cell_type": "code",
   "source": [
    "# Kalman filtering for the new model\n",
    "\n",
    "# Create arrays to hold intermediate values for both mu and Sigma\n",
    "mu_array = np.zeros(shape=(K, T, LDS_dim))\n",
    "mu0_repeat = np.repeat(mu0, K, axis=1).T\n",
    "mu_array[:, 0, :] = mu0_repeat\n",
    "\n",
    "Sigma_array = np.zeros(shape=(T, LDS_dim, LDS_dim)) # Condition independent\n",
    "Sigma_array[0] = Sigma0[np.newaxis, :, :]\n",
    "\n",
    "for t in range(1, T):\n",
    "    # First, find Sigma t using Sigma t-1    \n",
    "    D_T_R_1_D = np.matmul(np.matmul(D_star.T, np.linalg.inv(S_star)), D_star)\n",
    "    A_Sigma_A_T = np.matmul(np.matmul(A, Sigma_array[(t-1)]), A.T)\n",
    "    Q_Q_T = np.matmul(Q, Q.T)\n",
    "    Sigma_inv = D_T_R_1_D + np.linalg.inv(A_Sigma_A_T + Q_Q_T)\n",
    "\n",
    "    # Update the next Sigma at time t\n",
    "    Sigma_array[t] = np.linalg.inv(Sigma_inv)\n",
    "\n",
    "    # Now, use Sigma t to find mu t\n",
    "    x_t = neural_test[:, :, t] # Use the firing rate at time t to update the hidden state at time t\n",
    "    D_A = np.matmul(D_star, A)\n",
    "    D_A_mu = np.matmul(D_A, mu_array[:, (t-1), :].T)    \n",
    "    pred_error = x_t - D_A_mu\n",
    "    assert pred_error.shape == (N, K), f'Shape of prediction error array should be {N} by {K} (N x K) but was {pred_error.shape}.'\n",
    "\n",
    "    kalman_gain = np.matmul(np.matmul(Sigma_array[t], D_star.T), np.linalg.inv(S_star))\n",
    "    correction = np.matmul(kalman_gain, pred_error).T # Just because we want conditions by 10\n",
    "    assert correction.shape == (K, LDS_dim), f'Shape of correction should be {K} by {LDS_dim} (model trained with {LDS_dim} params for mu) but was {correction.shape}.'\n",
    "\n",
    "    # # Update the next mu at time t\n",
    "    A_mu_t = np.matmul(A, mu_array[:, (t-1), :].T).T # Shape is conditions (K) by time (T)\n",
    "    assert A_mu_t.shape == (K, LDS_dim), f'Shape of A*mu_t should be {K} by {LDS_dim} but was {A_mu_t.shape}.'\n",
    "\n",
    "    mu_array[:, t] = A_mu_t + correction\n",
    "\n",
    "print(f'mu array shape: {mu_array.shape}, Sigma array shape: {Sigma_array.shape}')"
   ],
   "outputs": [
    {
     "name": "stdout",
     "output_type": "stream",
     "text": [
      "mu array shape: (100, 16, 10), Sigma array shape: (16, 10, 10)\n"
     ]
    }
   ],
   "execution_count": 23
  },
  {
   "metadata": {
    "ExecuteTime": {
     "end_time": "2024-12-18T15:00:45.693118Z",
     "start_time": "2024-12-18T15:00:45.690765Z"
    }
   },
   "cell_type": "code",
   "source": [
    "# mu_array holds the Kalman filtered means of the posterior distribution\n",
    "# Use Equation 3 (from modeling, now for application so no noise) to predict test velocities\n",
    "V_test = np.tensordot(C, mu_array, axes=(1, 2))\n",
    "\n",
    "assert V_test.shape == (2, K, T), f'V test shape should be (2, {K}, {T} but was {V_test.shape}'\n",
    "np.save(\"outputs/V_test_kalman.npy\", V_test)"
   ],
   "outputs": [],
   "execution_count": 24
  },
  {
   "metadata": {
    "ExecuteTime": {
     "end_time": "2024-12-18T15:00:45.720785Z",
     "start_time": "2024-12-18T15:00:45.719492Z"
    }
   },
   "cell_type": "code",
   "source": "# Your test R2 is: 0.735",
   "outputs": [],
   "execution_count": 25
  },
  {
   "cell_type": "markdown",
   "metadata": {},
   "source": [
    "# Writing up\n",
    "\n",
    "\n",
    "Please write up your findings in a report to be submitted on Moodle in PDF format, and **include all your code in the Appendix**. Please clearly include your candidate number, NOT your name, on the front page. Your report should address all the questions raised in this notebook, be structured around the Sections of this notebook, and **be a maximum of five A4 pages** excluding any Appendix (minimum font size 11pt, minimum margins 1.5cm on each side).\n",
    "\n",
    "You are very much encouraged to think of data/results visualisations to best support the exposition of your results. You are also encouraged to report on any specific problems/difficulties that arose in your implementation of the various algorithms, and how you addressed those."
   ]
  },
  {
   "cell_type": "code",
   "metadata": {
    "ExecuteTime": {
     "end_time": "2024-12-18T15:00:45.748498Z",
     "start_time": "2024-12-18T15:00:45.747355Z"
    }
   },
   "source": "",
   "outputs": [],
   "execution_count": null
  },
  {
   "metadata": {
    "ExecuteTime": {
     "end_time": "2024-12-18T15:00:45.777808Z",
     "start_time": "2024-12-18T15:00:45.776605Z"
    }
   },
   "cell_type": "code",
   "source": "",
   "outputs": [],
   "execution_count": null
  }
 ],
 "metadata": {
  "kernelspec": {
   "display_name": "Python 3 (ipykernel)",
   "language": "python",
   "name": "python3"
  },
  "language_info": {
   "codemirror_mode": {
    "name": "ipython",
    "version": 3
   },
   "file_extension": ".py",
   "mimetype": "text/x-python",
   "name": "python",
   "nbconvert_exporter": "python",
   "pygments_lexer": "ipython3",
   "version": "3.11.2"
  }
 },
 "nbformat": 4,
 "nbformat_minor": 2
}
